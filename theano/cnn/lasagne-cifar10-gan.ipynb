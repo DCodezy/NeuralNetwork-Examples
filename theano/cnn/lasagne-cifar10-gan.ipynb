{
 "cells": [
  {
   "cell_type": "markdown",
   "metadata": {},
   "source": [
    "GAN Example\n",
    "\n",
    "The samples do not look good yet but the basics are here"
   ]
  },
  {
   "cell_type": "code",
   "execution_count": 1,
   "metadata": {
    "collapsed": false
   },
   "outputs": [
    {
     "name": "stderr",
     "output_type": "stream",
     "text": [
      "Using cuDNN version 5105 on context None\n",
      "Mapped name None to device cuda0: GeForce GTX TITAN Black (0000:04:00.0)\n"
     ]
    },
    {
     "name": "stdout",
     "output_type": "stream",
     "text": [
      "theano 0.9.0rc2.dev-674f8d5148cb8dcea446e7243e629d8f83647da5\n",
      "lasagne 0.2.dev1\n"
     ]
    }
   ],
   "source": [
    "import theano\n",
    "import numpy as np\n",
    "import matplotlib.pylab as plt\n",
    "import csv, os, random, sys\n",
    "\n",
    "import lasagne\n",
    "from lasagne.layers.normalization import BatchNormLayer\n",
    "from lasagne.layers import Conv2DLayer, InputLayer, ConcatLayer\n",
    "from lasagne.layers import DenseLayer, Pool2DLayer, FlattenLayer\n",
    "\n",
    "print \"theano\",theano.version.full_version\n",
    "print \"lasagne\",lasagne.__version__"
   ]
  },
  {
   "cell_type": "code",
   "execution_count": null,
   "metadata": {
    "collapsed": false
   },
   "outputs": [],
   "source": []
  },
  {
   "cell_type": "code",
   "execution_count": 2,
   "metadata": {
    "collapsed": false
   },
   "outputs": [],
   "source": [
    "#Set seed for random numbers:\n",
    "np.random.seed(1234)\n",
    "lasagne.random.set_rng(np.random.RandomState(1234))"
   ]
  },
  {
   "cell_type": "code",
   "execution_count": null,
   "metadata": {
    "collapsed": true
   },
   "outputs": [],
   "source": []
  },
  {
   "cell_type": "code",
   "execution_count": 3,
   "metadata": {
    "collapsed": false
   },
   "outputs": [],
   "source": [
    "##Uncomment these lines to fetch the dataset\n",
    "#!wget -c http://www.cs.toronto.edu/~kriz/cifar-10-python.tar.gz\n",
    "#!tar -xvf cifar-10-python.tar.gz"
   ]
  },
  {
   "cell_type": "code",
   "execution_count": 4,
   "metadata": {
    "collapsed": false
   },
   "outputs": [
    {
     "name": "stdout",
     "output_type": "stream",
     "text": [
      "x_train.shape: (50000, 3072)\n"
     ]
    }
   ],
   "source": [
    "data_dir_cifar10 = os.path.join(\".\", \"cifar-10-batches-py\")\n",
    "\n",
    "def one_hot(x, n):\n",
    "    x = np.array(x)\n",
    "    assert x.ndim == 1\n",
    "    return np.eye(n)[x]\n",
    "\n",
    "def _load_batch_cifar10(filename, dtype='float32'):\n",
    "    path = os.path.join(data_dir_cifar10, filename)\n",
    "    batch = np.load(path)\n",
    "    data = batch['data'] / 255.0 # scale between [0, 1]\n",
    "    labels = one_hot(batch['labels'], n=10) # convert labels to one-hot representation\n",
    "    return data.astype(dtype), labels.astype(dtype)\n",
    "\n",
    "def cifar10(dtype='float32', grayscale=True):\n",
    "    x_train = []\n",
    "    t_train = []\n",
    "    for k in xrange(5):\n",
    "        x, t = _load_batch_cifar10(\"data_batch_%d\" % (k + 1), dtype=dtype)\n",
    "        x_train.append(x)\n",
    "        t_train.append(t)\n",
    "\n",
    "    x_train = np.concatenate(x_train, axis=0)\n",
    "    t_train = np.concatenate(t_train, axis=0)\n",
    "\n",
    "    x_test, t_test = _load_batch_cifar10(\"test_batch\", dtype=dtype)\n",
    "\n",
    "    if grayscale:\n",
    "        x_train = _grayscale(x_train)\n",
    "        x_test = _grayscale(x_test)\n",
    "\n",
    "    return x_train, t_train, x_test, t_test\n",
    "\n",
    "# load data\n",
    "x_train, t_train, x_test, t_test = cifar10(dtype=theano.config.floatX,grayscale=False)\n",
    "labels_test = np.argmax(t_test, axis=1)\n",
    "\n",
    "print \"x_train.shape:\",x_train.shape\n",
    "\n",
    "# reshape data\n",
    "x_train = x_train.reshape((x_train.shape[0], 3, 32, 32))\n",
    "x_test = x_test.reshape((x_test.shape[0], 3, 32, 32))\n",
    "\n",
    "cifar10_names = ['plane','auto','bird','cat','deer','dog','frog','horse','ship','truck']"
   ]
  },
  {
   "cell_type": "code",
   "execution_count": 5,
   "metadata": {
    "collapsed": false
   },
   "outputs": [],
   "source": [
    "# x_train = x_train[:10000]\n",
    "# t_train = t_train[:10000]"
   ]
  },
  {
   "cell_type": "code",
   "execution_count": null,
   "metadata": {
    "collapsed": false
   },
   "outputs": [],
   "source": []
  },
  {
   "cell_type": "code",
   "execution_count": 6,
   "metadata": {
    "collapsed": false
   },
   "outputs": [
    {
     "data": {
      "image/png": "[encoded data removed]",
      "text/plain": [
       "<matplotlib.figure.Figure at 0x7ff1c0273990>"
      ]
     },
     "metadata": {},
     "output_type": "display_data"
    }
   ],
   "source": [
    "%matplotlib inline\n",
    "plt.rcParams['figure.figsize'] = (10, 5)\n",
    "plt.imshow(np.transpose(x_train[0], (1,2,0)),interpolation='none', cmap='gray');"
   ]
  },
  {
   "cell_type": "code",
   "execution_count": null,
   "metadata": {
    "collapsed": true
   },
   "outputs": [],
   "source": []
  },
  {
   "cell_type": "code",
   "execution_count": 7,
   "metadata": {
    "collapsed": true
   },
   "outputs": [],
   "source": [
    "num_units = 100\n",
    "encoder_size = 100\n",
    "noise_size = 10"
   ]
  },
  {
   "cell_type": "code",
   "execution_count": null,
   "metadata": {
    "collapsed": true
   },
   "outputs": [],
   "source": []
  },
  {
   "cell_type": "code",
   "execution_count": 8,
   "metadata": {
    "collapsed": true
   },
   "outputs": [],
   "source": [
    "import theano\n",
    "import theano.tensor as T\n",
    "import lasagne\n",
    "import lasagne.layers\n",
    "from lasagne.layers.normalization import BatchNormLayer\n",
    "from lasagne.layers import InputLayer, Conv2DLayer, Pool2DLayer, DenseLayer, MaxPool2DLayer, Upscale2DLayer\n",
    "from lasagne.layers import ConcatLayer, DropoutLayer, ReshapeLayer, TransposedConv2DLayer"
   ]
  },
  {
   "cell_type": "code",
   "execution_count": 346,
   "metadata": {
    "collapsed": false
   },
   "outputs": [
    {
     "name": "stdout",
     "output_type": "stream",
     "text": [
      "We have 100 hidden units\n",
      "(None, 10)\n",
      "(None, 10, 1, 1)\n",
      "(None, 100, 4, 4)\n",
      "(None, 50, 9, 9)\n",
      "(None, 50, 22, 22)\n",
      "(None, 25, 29, 29)\n",
      "(None, 3, 32, 32)\n"
     ]
    }
   ],
   "source": [
    "gen_input_var = T.matrix(\"gen_input_var\")\n",
    "\n",
    "gen = lasagne.layers.InputLayer(shape=(None, noise_size),input_var=gen_input_var)\n",
    "print gen.output_shape\n",
    "\n",
    "gen = lasagne.layers.ReshapeLayer(gen, (-1, noise_size, 1, 1))\n",
    "print gen.output_shape\n",
    "gen = BatchNormLayer(TransposedConv2DLayer(gen, num_filters=num_units, filter_size=4, stride=1))\n",
    "print gen.output_shape\n",
    "\n",
    "gen = BatchNormLayer(TransposedConv2DLayer(gen, num_filters=num_units/2, filter_size=6, stride=1))\n",
    "print gen.output_shape\n",
    "\n",
    "gen = BatchNormLayer(TransposedConv2DLayer(gen, num_filters=num_units/2, filter_size=14, stride=1))\n",
    "print gen.output_shape\n",
    "\n",
    "gen = TransposedConv2DLayer(gen, num_filters=num_units/4, filter_size=8)\n",
    "print gen.output_shape\n",
    "\n",
    "gen = TransposedConv2DLayer(gen, num_filters=3, filter_size=4, nonlinearity=lasagne.nonlinearities.sigmoid)\n",
    "print gen.output_shape"
   ]
  },
  {
   "cell_type": "code",
   "execution_count": 347,
   "metadata": {
    "collapsed": false
   },
   "outputs": [
    {
     "name": "stdout",
     "output_type": "stream",
     "text": [
      "We have 100 hidden units\n",
      "(None, 3, 32, 32)\n",
      "(None, 25, 16, 16)\n",
      "(None, 50, 8, 8)\n",
      "(None, 100, 4, 4)\n",
      "(None, 1)\n"
     ]
    }
   ],
   "source": [
    "lrelu = lasagne.nonlinearities.LeakyRectify(0.2)\n",
    "\n",
    "disc = lasagne.layers.InputLayer(shape=(None, 3, 32, 32), input_var=None)\n",
    "print disc.output_shape\n",
    "\n",
    "disc = BatchNormLayer(Conv2DLayer(disc, num_filters=num_units/4, filter_size=5, stride=2, pad=2, nonlinearity=lrelu))\n",
    "print disc.output_shape\n",
    "\n",
    "disc = BatchNormLayer(Conv2DLayer(disc, num_filters=num_units/2, filter_size=5, stride=2, pad=2, nonlinearity=lrelu))\n",
    "print disc.output_shape\n",
    "\n",
    "disc = BatchNormLayer(Conv2DLayer(disc, num_filters=num_units, filter_size=5, stride=2, pad=2, nonlinearity=lrelu))\n",
    "print disc.output_shape\n",
    "\n",
    "disc = FlattenLayer(disc)\n",
    "disc = DenseLayer(disc, 1, nonlinearity=lasagne.nonlinearities.sigmoid)\n",
    "print disc.output_shape"
   ]
  },
  {
   "cell_type": "code",
   "execution_count": null,
   "metadata": {
    "collapsed": false
   },
   "outputs": [],
   "source": []
  },
  {
   "cell_type": "code",
   "execution_count": null,
   "metadata": {
    "collapsed": false
   },
   "outputs": [],
   "source": []
  },
  {
   "cell_type": "code",
   "execution_count": null,
   "metadata": {
    "collapsed": false
   },
   "outputs": [],
   "source": []
  },
  {
   "cell_type": "code",
   "execution_count": null,
   "metadata": {
    "collapsed": false
   },
   "outputs": [],
   "source": []
  },
  {
   "cell_type": "code",
   "execution_count": null,
   "metadata": {
    "collapsed": true
   },
   "outputs": [],
   "source": []
  },
  {
   "cell_type": "code",
   "execution_count": null,
   "metadata": {
    "collapsed": true
   },
   "outputs": [],
   "source": []
  },
  {
   "cell_type": "code",
   "execution_count": 375,
   "metadata": {
    "collapsed": false
   },
   "outputs": [
    {
     "name": "stdout",
     "output_type": "stream",
     "text": [
      "Computing the functions...\n",
      "Done\n"
     ]
    }
   ],
   "source": [
    "# create train functions \n",
    "lr = theano.shared(np.array(0., dtype=theano.config.floatX))\n",
    "\n",
    "gen_output = lasagne.layers.get_output(gen)\n",
    "\n",
    "one = T.constant(1., dtype=theano.config.floatX)\n",
    "input_real = T.tensor4('target')\n",
    "\n",
    "\n",
    "disc_output_fake = lasagne.layers.get_output(disc, inputs=gen_output)\n",
    "disc_output_real = lasagne.layers.get_output(disc, inputs=input_real)\n",
    "disc_loss = -(T.log(disc_output_real) + T.log(one-disc_output_fake)).mean()\n",
    "disc_params = lasagne.layers.get_all_params(disc, trainable=True)\n",
    "disc_updates = lasagne.updates.adam(disc_loss, disc_params, learning_rate=lr, beta1=0.5)\n",
    "\n",
    "\n",
    "gen_loss = -T.log(disc_output_fake).mean()\n",
    "gen_params = lasagne.layers.get_all_params(gen, trainable=True)\n",
    "gen_updates = lasagne.updates.adam(gen_loss, gen_params, learning_rate=lr, beta1=0.5)\n",
    "\n",
    "\n",
    "print \"Computing functions\"\n",
    "\n",
    "gen_fn = theano.function([gen_input_var], gen_output, allow_input_downcast=True)\n",
    "\n",
    "train_gen_fn = theano.function([gen_input_var], \n",
    "                               [gen_loss],\n",
    "                               updates=gen_updates, \n",
    "                               allow_input_downcast=True)\n",
    "\n",
    "disc_fn = theano.function([input_real], disc_output_real, allow_input_downcast=True)\n",
    "\n",
    "train_disc_fn = theano.function([gen_input_var, input_real], \n",
    "                                [disc_loss],\n",
    "                                updates=disc_updates,\n",
    "                                allow_input_downcast=True)\n",
    "\n",
    "print \"Done\""
   ]
  },
  {
   "cell_type": "code",
   "execution_count": null,
   "metadata": {
    "collapsed": false
   },
   "outputs": [],
   "source": []
  },
  {
   "cell_type": "code",
   "execution_count": null,
   "metadata": {
    "collapsed": false
   },
   "outputs": [],
   "source": []
  },
  {
   "cell_type": "code",
   "execution_count": 455,
   "metadata": {
    "collapsed": false
   },
   "outputs": [
    {
     "name": "stdout",
     "output_type": "stream",
     "text": [
      "(1, 3, 32, 32)\n"
     ]
    },
    {
     "data": {
      "image/png": "[encoded data removed]",
      "text/plain": [
       "<matplotlib.figure.Figure at 0x7ff14eee0810>"
      ]
     },
     "metadata": {},
     "output_type": "display_data"
    }
   ],
   "source": [
    "noise = np.random.uniform(size=(1, noise_size))\n",
    "img = gen_fn(noise)\n",
    "print img.shape\n",
    "\n",
    "%matplotlib inline\n",
    "plt.rcParams['figure.figsize'] = (10, 5)\n",
    "plt.imshow(np.transpose(img[0], (1,2,0)),interpolation='none', cmap='gray');"
   ]
  },
  {
   "cell_type": "code",
   "execution_count": 451,
   "metadata": {
    "collapsed": false
   },
   "outputs": [
    {
     "data": {
      "image/png": "[encoded data removed]",
      "text/plain": [
       "<matplotlib.figure.Figure at 0x7ff13cc1a290>"
      ]
     },
     "metadata": {},
     "output_type": "display_data"
    }
   ],
   "source": [
    "%matplotlib inline\n",
    "plt.rcParams['figure.figsize'] = (10, 5)\n",
    "plt.imshow(np.transpose(x_train[0], (1,2,0)),interpolation='none', cmap='gray');"
   ]
  },
  {
   "cell_type": "code",
   "execution_count": 461,
   "metadata": {
    "collapsed": false
   },
   "outputs": [
    {
     "data": {
      "text/plain": [
       "array([[ 0.0025]], dtype=float32)"
      ]
     },
     "execution_count": 461,
     "metadata": {},
     "output_type": "execute_result"
    }
   ],
   "source": [
    "disc_fn(img)"
   ]
  },
  {
   "cell_type": "code",
   "execution_count": 462,
   "metadata": {
    "collapsed": false
   },
   "outputs": [
    {
     "data": {
      "text/plain": [
       "array([[ 0.0394]], dtype=float32)"
      ]
     },
     "execution_count": 462,
     "metadata": {},
     "output_type": "execute_result"
    }
   ],
   "source": [
    "disc_fn(x_train[:1])"
   ]
  },
  {
   "cell_type": "code",
   "execution_count": null,
   "metadata": {
    "collapsed": true
   },
   "outputs": [],
   "source": []
  },
  {
   "cell_type": "code",
   "execution_count": null,
   "metadata": {
    "collapsed": false
   },
   "outputs": [],
   "source": []
  },
  {
   "cell_type": "code",
   "execution_count": 446,
   "metadata": {
    "collapsed": true
   },
   "outputs": [],
   "source": [
    "num_samples = 1000"
   ]
  },
  {
   "cell_type": "code",
   "execution_count": null,
   "metadata": {
    "collapsed": false
   },
   "outputs": [],
   "source": [
    "# lr.set_value(0.001)\n",
    "# for i in range(100):\n",
    "#     errs = []\n",
    "#     for i in range(10):\n",
    "#         noise = np.random.normal(size=(num_samples, noise_size))\n",
    "#         samples = np.random.randint(0,len(x_train),num_samples)\n",
    "#         err = train_disc_fn(noise, x_train[samples])\n",
    "#         errs.append(err)\n",
    "#     print \"d\",np.mean(errs)"
   ]
  },
  {
   "cell_type": "code",
   "execution_count": null,
   "metadata": {
    "collapsed": true
   },
   "outputs": [],
   "source": []
  },
  {
   "cell_type": "code",
   "execution_count": null,
   "metadata": {
    "collapsed": false
   },
   "outputs": [],
   "source": [
    "# lr.set_value(0.001)\n",
    "# for i in range(1000):\n",
    "#     errs = []\n",
    "#     for i in range(5):\n",
    "#         noise = np.random.normal(size=(num_samples, noise_size))\n",
    "#         err = train_gen_fn(noise)\n",
    "#         errs.append(err)\n",
    "#     print \"g\",np.mean(errs)"
   ]
  },
  {
   "cell_type": "code",
   "execution_count": null,
   "metadata": {
    "collapsed": true
   },
   "outputs": [],
   "source": []
  },
  {
   "cell_type": "code",
   "execution_count": null,
   "metadata": {
    "collapsed": false,
    "scrolled": false
   },
   "outputs": [],
   "source": [
    "lr.set_value(0.001)\n",
    "for j in range(100):\n",
    "    errs = []\n",
    "    for i in range(10):\n",
    "        noise = np.random.normal(size=(num_samples, noise_size))\n",
    "        samples = np.random.randint(0,len(x_train),num_samples)\n",
    "        err = train_disc_fn(noise, x_train[samples])\n",
    "        errs.append(err)\n",
    "    print \"d\",np.mean(errs)\n",
    "    errs = []\n",
    "    for i in range(1):\n",
    "        noise = np.random.normal(size=(num_samples, noise_size))\n",
    "        err = train_gen_fn(noise)\n",
    "        errs.append(err)\n",
    "    print \"g\",np.mean(errs)"
   ]
  },
  {
   "cell_type": "code",
   "execution_count": null,
   "metadata": {
    "collapsed": true
   },
   "outputs": [],
   "source": []
  },
  {
   "cell_type": "code",
   "execution_count": 464,
   "metadata": {
    "collapsed": false
   },
   "outputs": [
    {
     "name": "stdout",
     "output_type": "stream",
     "text": [
      "(1, 3, 32, 32)\n"
     ]
    },
    {
     "data": {
      "image/png": "[encoded data removed]",
      "text/plain": [
       "<matplotlib.figure.Figure at 0x7ff143593dd0>"
      ]
     },
     "metadata": {},
     "output_type": "display_data"
    }
   ],
   "source": [
    "noise = np.random.uniform(size=(1, noise_size))\n",
    "img = gen_fn(noise)\n",
    "print img.shape\n",
    "\n",
    "%matplotlib inline\n",
    "plt.rcParams['figure.figsize'] = (10, 5)\n",
    "plt.imshow(np.transpose(img[0], (1,2,0)),interpolation='none', cmap='gray');"
   ]
  },
  {
   "cell_type": "code",
   "execution_count": null,
   "metadata": {
    "collapsed": true
   },
   "outputs": [],
   "source": []
  }
 ],
 "metadata": {
  "kernelspec": {
   "display_name": "Python 2",
   "language": "python",
   "name": "python2"
  },
  "language_info": {
   "codemirror_mode": {
    "name": "ipython",
    "version": 2
   },
   "file_extension": ".py",
   "mimetype": "text/x-python",
   "name": "python",
   "nbconvert_exporter": "python",
   "pygments_lexer": "ipython2",
   "version": "2.7.13"
  }
 },
 "nbformat": 4,
 "nbformat_minor": 0
}
