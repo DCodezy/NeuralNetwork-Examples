{
 "cells": [
  {
   "cell_type": "markdown",
   "metadata": {
    "collapsed": false
   },
   "source": [
    "To run this demo you need to install theano and lasagne. As of right now the BatchNormLayer does not exist in the standard pip package so the development version is needed.\n",
    "\n",
    "    pip install theano\n",
    "    pip install lasagne\n",
    "    pip install --upgrade https://github.com/Lasagne/Lasagne/archive/master.zip\n",
    "\n",
    "To convert this notebook into a python script run `jupyter nbconvert --to python lasagne-mnist-small-example.ipynb`\n",
    "\n",
    "By Joseph Paul Cohen 2017\n"
   ]
  },
  {
   "cell_type": "code",
   "execution_count": 1,
   "metadata": {
    "collapsed": false
   },
   "outputs": [
    {
     "name": "stderr",
     "output_type": "stream",
     "text": [
      "Using cuDNN version 5105 on context None\n",
      "Mapped name None to device cuda0: GeForce GTX TITAN Black (0000:04:00.0)\n"
     ]
    },
    {
     "name": "stdout",
     "output_type": "stream",
     "text": [
      "theano 0.9.0rc2.dev-674f8d5148cb8dcea446e7243e629d8f83647da5\n",
      "lasagne 0.2.dev1\n"
     ]
    }
   ],
   "source": [
    "import theano, theano.tensor as T\n",
    "import numpy as np, matplotlib.pyplot as plt\n",
    "import os, time, random, sys\n",
    "notebook_start_time = time.time()\n",
    "\n",
    "import lasagne\n",
    "from lasagne.layers.normalization import BatchNormLayer\n",
    "from lasagne.layers import Conv2DLayer, InputLayer, ConcatLayer, DenseLayer, Pool2DLayer, FlattenLayer\n",
    "\n",
    "print \"theano\",theano.version.full_version\n",
    "print \"lasagne\",lasagne.__version__"
   ]
  },
  {
   "cell_type": "code",
   "execution_count": 2,
   "metadata": {
    "collapsed": false
   },
   "outputs": [],
   "source": [
    "#Set seed for random numbers:\n",
    "np.random.seed(1234)\n",
    "lasagne.random.set_rng(np.random.RandomState(1234))"
   ]
  },
  {
   "cell_type": "code",
   "execution_count": 3,
   "metadata": {
    "collapsed": false
   },
   "outputs": [],
   "source": [
    "if sys.version_info[0] == 2:\n",
    "    from urllib import urlretrieve\n",
    "else:\n",
    "    from urllib.request import urlretrieve\n",
    "\n",
    "def download(filename, source='http://yann.lecun.com/exdb/mnist/'):\n",
    "    print(\"Downloading %s\" % filename)\n",
    "    urlretrieve(source + filename, filename)\n",
    "\n",
    "import gzip\n",
    "def load_mnist_images(filename):\n",
    "    if not os.path.exists(filename):\n",
    "        download(filename)\n",
    "    with gzip.open(filename, 'rb') as f:\n",
    "        data = np.frombuffer(f.read(), np.uint8, offset=16)\n",
    "    data = data.reshape(-1, 1, 28, 28).transpose(0,1,3,2)\n",
    "    data = np.asarray([np.rot90(np.fliplr(x[0])) for x in data])\n",
    "    data = data.reshape(-1, 1, 28, 28)\n",
    "    return data / np.float32(255)\n",
    "\n",
    "def load_mnist_labels(filename):\n",
    "    if not os.path.exists(filename):\n",
    "        download(filename)\n",
    "    with gzip.open(filename, 'rb') as f:\n",
    "        data = np.frombuffer(f.read(), np.uint8, offset=8)\n",
    "    return data\n",
    "\n",
    "x_train = load_mnist_images('train-images-idx3-ubyte.gz')\n",
    "t_train = load_mnist_labels('train-labels-idx1-ubyte.gz')\n",
    "x_test = load_mnist_images('t10k-images-idx3-ubyte.gz')\n",
    "t_test = load_mnist_labels('t10k-labels-idx1-ubyte.gz')\n",
    "x_train, x_val = x_train[:-10000], x_train[-10000:]\n",
    "t_train, t_val = t_train[:-10000], t_train[-10000:]"
   ]
  },
  {
   "cell_type": "code",
   "execution_count": 4,
   "metadata": {
    "collapsed": false
   },
   "outputs": [
    {
     "name": "stdout",
     "output_type": "stream",
     "text": [
      "x_train (50000, 1, 28, 28)\n",
      "t_train (50000,)\n",
      "x_test (10000, 1, 28, 28)\n",
      "t_test (10000,)\n"
     ]
    }
   ],
   "source": [
    "print \"x_train\", x_train.shape\n",
    "print \"t_train\", t_train.shape\n",
    "print \"x_test\", x_test.shape\n",
    "print \"t_test\", t_test.shape"
   ]
  },
  {
   "cell_type": "code",
   "execution_count": null,
   "metadata": {
    "collapsed": false
   },
   "outputs": [],
   "source": []
  },
  {
   "cell_type": "code",
   "execution_count": 5,
   "metadata": {
    "collapsed": false
   },
   "outputs": [
    {
     "data": {
      "image/png": "[encoded data removed]",
      "text/plain": [
       "<matplotlib.figure.Figure at 0x7fa8ee725250>"
      ]
     },
     "metadata": {},
     "output_type": "display_data"
    }
   ],
   "source": [
    "%matplotlib inline\n",
    "plt.rcParams['figure.figsize'] = (10, 5)\n",
    "plt.imshow(x_train[0][0],interpolation='none', cmap='gray');"
   ]
  },
  {
   "cell_type": "code",
   "execution_count": null,
   "metadata": {
    "collapsed": true
   },
   "outputs": [],
   "source": []
  },
  {
   "cell_type": "code",
   "execution_count": null,
   "metadata": {
    "collapsed": false
   },
   "outputs": [],
   "source": []
  },
  {
   "cell_type": "code",
   "execution_count": null,
   "metadata": {
    "collapsed": true
   },
   "outputs": [],
   "source": []
  },
  {
   "cell_type": "code",
   "execution_count": 6,
   "metadata": {
    "collapsed": false
   },
   "outputs": [
    {
     "name": "stdout",
     "output_type": "stream",
     "text": [
      "(None, 20, 24, 24)\n",
      "(None, 20, 15, 15)\n",
      "(None, 10)\n"
     ]
    }
   ],
   "source": [
    "input_var = T.tensor4('inputs')\n",
    "\n",
    "input_shape = (None, 1, 28, 28)\n",
    "net = InputLayer(shape=input_shape, input_var=input_var)\n",
    "\n",
    "\n",
    "net = BatchNormLayer(Conv2DLayer(net, num_filters=20,\n",
    "        filter_size=5,\n",
    "        nonlinearity=lasagne.nonlinearities.rectify,\n",
    "        W=lasagne.init.GlorotUniform(gain='relu')))\n",
    "print net.output_shape\n",
    "\n",
    "\n",
    "net = BatchNormLayer(Conv2DLayer(net, num_filters=20,\n",
    "        filter_size=10,\n",
    "        nonlinearity=lasagne.nonlinearities.rectify,\n",
    "        W=lasagne.init.GlorotUniform(gain='relu')))\n",
    "print net.output_shape\n",
    "\n",
    "\n",
    "net = FlattenLayer(net)  \n",
    "net = DenseLayer(net, num_units=10, nonlinearity=lasagne.nonlinearities.softmax)\n",
    "print net.output_shape"
   ]
  },
  {
   "cell_type": "code",
   "execution_count": 7,
   "metadata": {
    "collapsed": false
   },
   "outputs": [
    {
     "name": "stdout",
     "output_type": "stream",
     "text": [
      "input_shape: (None, 1, 28, 28) -> output_shape: (None, 10)\n"
     ]
    }
   ],
   "source": [
    "output_shape = lasagne.layers.get_output_shape(net)\n",
    "print \"input_shape:\",input_shape,\"-> output_shape:\",output_shape\n",
    "sys.stdout.flush()"
   ]
  },
  {
   "cell_type": "code",
   "execution_count": null,
   "metadata": {
    "collapsed": false
   },
   "outputs": [],
   "source": []
  },
  {
   "cell_type": "code",
   "execution_count": 8,
   "metadata": {
    "collapsed": false
   },
   "outputs": [
    {
     "name": "stdout",
     "output_type": "stream",
     "text": [
      "DONE building output functions\n"
     ]
    }
   ],
   "source": [
    "#Output functions\n",
    "output = lasagne.layers.get_output(net)\n",
    "y = T.argmax(output, axis=1)\n",
    "f_predict = theano.function([input_var], y)\n",
    "print \"DONE building output functions\""
   ]
  },
  {
   "cell_type": "code",
   "execution_count": 9,
   "metadata": {
    "collapsed": false
   },
   "outputs": [
    {
     "name": "stdout",
     "output_type": "stream",
     "text": [
      "DONE building training functions\n"
     ]
    }
   ],
   "source": [
    "#Training function\n",
    "target_var = T.ivector('target')\n",
    "target_one_hot = T.extra_ops.to_one_hot(target_var, 10)\n",
    "loss = lasagne.objectives.categorical_crossentropy(output, target_one_hot)\n",
    "loss = loss.mean()\n",
    "\n",
    "#create lr variable so we can adjust the learning rate without compiling\n",
    "lr = theano.shared(np.array(0.001, dtype=theano.config.floatX))\n",
    "\n",
    "params = lasagne.layers.get_all_params(net, trainable=True)\n",
    "updates = lasagne.updates.adam(loss, params, learning_rate=lr)\n",
    "#updates = lasagne.updates.nesterov_momentum(loss, params, learning_rate=lr, momentum=0.9)\n",
    "\n",
    "f_train = theano.function([input_var, target_var], loss, updates=updates)\n",
    "print \"DONE building training functions\""
   ]
  },
  {
   "cell_type": "code",
   "execution_count": null,
   "metadata": {
    "collapsed": true
   },
   "outputs": [],
   "source": []
  },
  {
   "cell_type": "code",
   "execution_count": 10,
   "metadata": {
    "collapsed": false
   },
   "outputs": [
    {
     "data": {
      "text/plain": [
       "array(4.338081359863281, dtype=float32)"
      ]
     },
     "execution_count": 10,
     "metadata": {},
     "output_type": "execute_result"
    }
   ],
   "source": [
    "#test to seee it the train function works\n",
    "f_train(x_train[:10],t_train[:10])"
   ]
  },
  {
   "cell_type": "code",
   "execution_count": null,
   "metadata": {
    "collapsed": true
   },
   "outputs": [],
   "source": []
  },
  {
   "cell_type": "code",
   "execution_count": 11,
   "metadata": {
    "collapsed": false
   },
   "outputs": [
    {
     "name": "stdout",
     "output_type": "stream",
     "text": [
      "predicted [5 0 4 1 9 2 1 3 1 4]\n",
      "true val  [5 0 4 1 9 2 1 3 1 4]\n"
     ]
    }
   ],
   "source": [
    "#Test out a prediction\n",
    "print \"predicted\", f_predict(x_train[:10])\n",
    "print \"true val \",t_train[:10]"
   ]
  },
  {
   "cell_type": "code",
   "execution_count": null,
   "metadata": {
    "collapsed": true
   },
   "outputs": [],
   "source": []
  },
  {
   "cell_type": "code",
   "execution_count": 12,
   "metadata": {
    "collapsed": false
   },
   "outputs": [
    {
     "name": "stdout",
     "output_type": "stream",
     "text": [
      "batch_size: 512\n",
      "iteration: 0, trainerror: 0.29832, accuracy: 0.96780, seconds: 6\n",
      "iteration: 1, trainerror: 0.07765, accuracy: 0.98170, seconds: 6\n",
      "iteration: 2, trainerror: 0.04962, accuracy: 0.98540, seconds: 6\n",
      "iteration: 3, trainerror: 0.03509, accuracy: 0.98650, seconds: 7\n",
      "iteration: 4, trainerror: 0.02737, accuracy: 0.98610, seconds: 7\n",
      "iteration: 5, trainerror: 0.02031, accuracy: 0.98720, seconds: 7\n",
      "iteration: 6, trainerror: 0.01481, accuracy: 0.98940, seconds: 7\n",
      "iteration: 7, trainerror: 0.01085, accuracy: 0.98870, seconds: 7\n",
      "iteration: 8, trainerror: 0.00788, accuracy: 0.99010, seconds: 7\n",
      "iteration: 9, trainerror: 0.00521, accuracy: 0.99100, seconds: 7\n",
      "iteration: 10, trainerror: 0.00392, accuracy: 0.98980, seconds: 7\n",
      "iteration: 11, trainerror: 0.00284, accuracy: 0.99060, seconds: 7\n",
      "iteration: 12, trainerror: 0.00213, accuracy: 0.99080, seconds: 7\n",
      "iteration: 13, trainerror: 0.00158, accuracy: 0.99130, seconds: 7\n",
      "iteration: 14, trainerror: 0.00138, accuracy: 0.99090, seconds: 7\n",
      "iteration: 15, trainerror: 0.00098, accuracy: 0.99060, seconds: 7\n",
      "iteration: 16, trainerror: 0.00079, accuracy: 0.99060, seconds: 7\n",
      "iteration: 17, trainerror: 0.00070, accuracy: 0.99070, seconds: 7\n",
      "iteration: 18, trainerror: 0.00060, accuracy: 0.99090, seconds: 7\n",
      "iteration: 19, trainerror: 0.00053, accuracy: 0.99030, seconds: 7\n"
     ]
    }
   ],
   "source": [
    "# train model\n",
    "batch_size = 2**9\n",
    "print \"batch_size:\",batch_size\n",
    "\n",
    "stats = []\n",
    "for i in range(0,20):\n",
    "    start_time = time.time()\n",
    "    trainerror = []\n",
    "\n",
    "    #Shuffle batches!\n",
    "    order = range(0,len(x_train))\n",
    "    random.shuffle(order)\n",
    "    x_train = x_train[order]\n",
    "    t_train = t_train[order]\n",
    "    \n",
    "    #Start batch training!\n",
    "    for start in range(0, len(x_train), batch_size):\n",
    "        x_batch = x_train[start:start + batch_size]\n",
    "        t_batch = t_train[start:start + batch_size]\n",
    "        cost = f_train(x_batch, t_batch)\n",
    "        trainerror.append(cost)\n",
    "        #print \"batch error: %.5f\" % cost\n",
    "    elapsed_time = time.time() - start_time\n",
    "    \n",
    "    ## Calculate test error (just for logging)\n",
    "    pred = np.array([])\n",
    "    for start in range(0, len(x_test), batch_size):\n",
    "        pred = np.append(pred,f_predict(x_test[start:start + batch_size]))\n",
    "    testacc = np.mean(pred == t_test)\n",
    "    \n",
    "    epocherror = np.mean(trainerror)\n",
    "    stats.append((testacc,epocherror))\n",
    "    \n",
    "    print \"iteration: %d, trainerror: %.5f, accuracy: %.5f, seconds: %d\" % (i, epocherror,testacc, elapsed_time)\n"
   ]
  },
  {
   "cell_type": "code",
   "execution_count": null,
   "metadata": {
    "collapsed": true
   },
   "outputs": [],
   "source": []
  },
  {
   "cell_type": "code",
   "execution_count": 13,
   "metadata": {
    "collapsed": false
   },
   "outputs": [
    {
     "name": "stdout",
     "output_type": "stream",
     "text": [
      "predicted [5 8 6 7 4 9 4 4 6 9]\n",
      "true val  [5 8 6 7 4 9 4 4 6 9]\n"
     ]
    }
   ],
   "source": [
    "#Test out a prediction\n",
    "print \"predicted\", f_predict(x_train[:10])\n",
    "print \"true val \",t_train[:10]"
   ]
  },
  {
   "cell_type": "code",
   "execution_count": null,
   "metadata": {
    "collapsed": true
   },
   "outputs": [],
   "source": []
  },
  {
   "cell_type": "code",
   "execution_count": 14,
   "metadata": {
    "collapsed": false
   },
   "outputs": [
    {
     "data": {
      "text/plain": [
       "[<matplotlib.lines.Line2D at 0x7fa8ec52be90>]"
      ]
     },
     "execution_count": 14,
     "metadata": {},
     "output_type": "execute_result"
    },
    {
     "data": {
      "image/png": "[encoded data removed]",
      "text/plain": [
       "<matplotlib.figure.Figure at 0x7fa8ec572790>"
      ]
     },
     "metadata": {},
     "output_type": "display_data"
    }
   ],
   "source": [
    "statsnp = np.rollaxis(np.asarray(stats),0,2)\n",
    "plt.plot(statsnp[1])"
   ]
  },
  {
   "cell_type": "code",
   "execution_count": 15,
   "metadata": {
    "collapsed": false,
    "scrolled": false
   },
   "outputs": [
    {
     "data": {
      "text/plain": [
       "[<matplotlib.lines.Line2D at 0x7fa8c2af5750>]"
      ]
     },
     "execution_count": 15,
     "metadata": {},
     "output_type": "execute_result"
    },
    {
     "data": {
      "image/png": "[encoded data removed]",
      "text/plain": [
       "<matplotlib.figure.Figure at 0x7fa8c2b9cd50>"
      ]
     },
     "metadata": {},
     "output_type": "display_data"
    }
   ],
   "source": [
    "plt.plot(statsnp[0])"
   ]
  },
  {
   "cell_type": "code",
   "execution_count": 16,
   "metadata": {
    "collapsed": false
   },
   "outputs": [
    {
     "name": "stdout",
     "output_type": "stream",
     "text": [
      "Max Testing Accuracy 0.9913\n"
     ]
    }
   ],
   "source": [
    "print \"Max Testing Accuracy\", max(statsnp[0])"
   ]
  },
  {
   "cell_type": "code",
   "execution_count": null,
   "metadata": {
    "collapsed": true
   },
   "outputs": [],
   "source": []
  },
  {
   "cell_type": "code",
   "execution_count": null,
   "metadata": {
    "collapsed": true
   },
   "outputs": [],
   "source": []
  },
  {
   "cell_type": "code",
   "execution_count": 17,
   "metadata": {
    "collapsed": false
   },
   "outputs": [
    {
     "name": "stdout",
     "output_type": "stream",
     "text": [
      "Notebook took 4.14655101697 minutes\n"
     ]
    }
   ],
   "source": [
    "notebook_elapsed_time = time.time() - notebook_start_time\n",
    "print \"Notebook took\", notebook_elapsed_time/60.0, \"minutes\""
   ]
  },
  {
   "cell_type": "code",
   "execution_count": null,
   "metadata": {
    "collapsed": false
   },
   "outputs": [],
   "source": []
  },
  {
   "cell_type": "code",
   "execution_count": null,
   "metadata": {
    "collapsed": true
   },
   "outputs": [],
   "source": []
  },
  {
   "cell_type": "code",
   "execution_count": null,
   "metadata": {
    "collapsed": true
   },
   "outputs": [],
   "source": []
  },
  {
   "cell_type": "code",
   "execution_count": null,
   "metadata": {
    "collapsed": true
   },
   "outputs": [],
   "source": []
  }
 ],
 "metadata": {
  "kernelspec": {
   "display_name": "Python 2",
   "language": "python",
   "name": "python2"
  },
  "language_info": {
   "codemirror_mode": {
    "name": "ipython",
    "version": 2
   },
   "file_extension": ".py",
   "mimetype": "text/x-python",
   "name": "python",
   "nbconvert_exporter": "python",
   "pygments_lexer": "ipython2",
   "version": "2.7.13"
  }
 },
 "nbformat": 4,
 "nbformat_minor": 1
}
